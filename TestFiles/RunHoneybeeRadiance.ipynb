{
 "cells": [
  {
   "cell_type": "code",
   "execution_count": 2,
   "metadata": {},
   "outputs": [],
   "source": [
    "import sys\n",
    "sys.path.insert(0,'ladybug')\n",
    "sys.path.insert(0,'honeybee')"
   ]
  },
  {
   "cell_type": "code",
   "execution_count": 3,
   "metadata": {},
   "outputs": [],
   "source": [
    "import ladybug\n",
    "#help(ladybug)"
   ]
  },
  {
   "cell_type": "code",
   "execution_count": 4,
   "metadata": {},
   "outputs": [],
   "source": [
    "import honeybee\n",
    "#help(honeybee)"
   ]
  },
  {
   "cell_type": "code",
   "execution_count": 5,
   "metadata": {},
   "outputs": [
    {
     "name": "stdout",
     "output_type": "stream",
     "text": [
      "Path to radiance is set to: /usr/local/radiance\n",
      "Path to perl is set to: /usr/bin\n"
     ]
    }
   ],
   "source": [
    "%matplotlib inline\n",
    "import matplotlib.pyplot as plt\n",
    "from mpl_toolkits.mplot3d import Axes3D\n",
    "from mpl_toolkits.mplot3d.art3d import Poly3DCollection\n",
    "import numpy as np\n",
    "import json\n",
    "import re\n",
    "import os\n",
    "\n",
    "from honeybee.radiance.recipe.daylightfactor.gridbased import GridBased as df_GridBased\n",
    "from honeybee.radiance.recipe.annual.gridbased import GridBased as annual_GridBased\n",
    "from honeybee.radiance.sky.skymatrix import SkyMatrix\n",
    "from honeybee.room import Room\n",
    "from honeybee.radiance.material.glass import Glass\n",
    "from honeybee.radiance.analysisgrid import AnalysisGrid\n",
    "from honeybee.futil import bat_to_sh"
   ]
  },
  {
   "cell_type": "code",
   "execution_count": null,
   "metadata": {},
   "outputs": [],
   "source": []
  },
  {
   "cell_type": "code",
   "execution_count": 10,
   "metadata": {},
   "outputs": [
    {
     "name": "stdout",
     "output_type": "stream",
     "text": [
      "Found 6 opaque surfaces.\n",
      "Found 4 fenestration surfaces.\n",
      "Found 0 window-groups.\n",
      "Found 6 opaque surfaces.\n",
      "Found 4 fenestration surfaces.\n",
      "Found 0 window-groups.\n",
      "Found 6 opaque surfaces.\n",
      "Found 4 fenestration surfaces.\n",
      "Found 0 window-groups.\n",
      "Found 6 opaque surfaces.\n",
      "Found 4 fenestration surfaces.\n",
      "Found 0 window-groups.\n",
      "Writing recipe contents to: room/daylightfactor/daylightfactor\n",
      "Writing recipe contents to: room/annual/gridbased_annual\n",
      "Calculating solar values...\n",
      "# Number of sun up hours: 4420\n",
      "Writing sun matrix to room/annual/gridbased_annual/sky/sunmtx_vis_NA_51.48_3.18_0.0.mtx\n"
     ]
    },
    {
     "ename": "OSError",
     "evalue": "[Errno 13] Permission denied",
     "output_type": "error",
     "traceback": [
      "\u001b[0;31m---------------------------------------------------------------------------\u001b[0m",
      "\u001b[0;31mOSError\u001b[0m                                   Traceback (most recent call last)",
      "\u001b[0;32m<ipython-input-10-cf2bde311fc3>\u001b[0m in \u001b[0;36m<module>\u001b[0;34m()\u001b[0m\n\u001b[1;32m     32\u001b[0m \u001b[0;34m\u001b[0m\u001b[0m\n\u001b[1;32m     33\u001b[0m \u001b[0;31m# run the daylight factor analysis\u001b[0m\u001b[0;34m\u001b[0m\u001b[0;34m\u001b[0m\u001b[0m\n\u001b[0;32m---> 34\u001b[0;31m \u001b[0mdf_recipe\u001b[0m\u001b[0;34m.\u001b[0m\u001b[0mrun\u001b[0m\u001b[0;34m(\u001b[0m\u001b[0mdf_bat\u001b[0m\u001b[0;34m,\u001b[0m \u001b[0mTrue\u001b[0m\u001b[0;34m)\u001b[0m\u001b[0;34m\u001b[0m\u001b[0m\n\u001b[0m\u001b[1;32m     35\u001b[0m \u001b[0;34m\u001b[0m\u001b[0m\n\u001b[1;32m     36\u001b[0m \u001b[0;31m# run the annual daylight analysis\u001b[0m\u001b[0;34m\u001b[0m\u001b[0;34m\u001b[0m\u001b[0m\n",
      "\u001b[0;32m/Users/Tristan/Desktop/SAMAzure/TestFiles/honeybee/honeybee/radiance/recipe/_recipebase.py\u001b[0m in \u001b[0;36mrun\u001b[0;34m(self, command_file, debug)\u001b[0m\n\u001b[1;32m    233\u001b[0m \u001b[0;34m\u001b[0m\u001b[0m\n\u001b[1;32m    234\u001b[0m         \u001b[0;31m# FIX: Heroku Permission Patch\u001b[0m\u001b[0;34m\u001b[0m\u001b[0;34m\u001b[0m\u001b[0m\n\u001b[0;32m--> 235\u001b[0;31m         \u001b[0msubprocess\u001b[0m\u001b[0;34m.\u001b[0m\u001b[0mcall\u001b[0m\u001b[0;34m(\u001b[0m\u001b[0mcommand_file\u001b[0m\u001b[0;34m)\u001b[0m\u001b[0;34m\u001b[0m\u001b[0m\n\u001b[0m\u001b[1;32m    236\u001b[0m         \u001b[0;31m# print('Command RUN: {}'.format(command_file))\u001b[0m\u001b[0;34m\u001b[0m\u001b[0;34m\u001b[0m\u001b[0m\n\u001b[1;32m    237\u001b[0m         \u001b[0;31m# process = subprocess.Popen(command_file,\u001b[0m\u001b[0;34m\u001b[0m\u001b[0;34m\u001b[0m\u001b[0m\n",
      "\u001b[0;32m/Users/Tristan/anaconda2/lib/python2.7/subprocess.pyc\u001b[0m in \u001b[0;36mcall\u001b[0;34m(*popenargs, **kwargs)\u001b[0m\n\u001b[1;32m    166\u001b[0m     \u001b[0mretcode\u001b[0m \u001b[0;34m=\u001b[0m \u001b[0mcall\u001b[0m\u001b[0;34m(\u001b[0m\u001b[0;34m[\u001b[0m\u001b[0;34m\"ls\"\u001b[0m\u001b[0;34m,\u001b[0m \u001b[0;34m\"-l\"\u001b[0m\u001b[0;34m]\u001b[0m\u001b[0;34m)\u001b[0m\u001b[0;34m\u001b[0m\u001b[0m\n\u001b[1;32m    167\u001b[0m     \"\"\"\n\u001b[0;32m--> 168\u001b[0;31m     \u001b[0;32mreturn\u001b[0m \u001b[0mPopen\u001b[0m\u001b[0;34m(\u001b[0m\u001b[0;34m*\u001b[0m\u001b[0mpopenargs\u001b[0m\u001b[0;34m,\u001b[0m \u001b[0;34m**\u001b[0m\u001b[0mkwargs\u001b[0m\u001b[0;34m)\u001b[0m\u001b[0;34m.\u001b[0m\u001b[0mwait\u001b[0m\u001b[0;34m(\u001b[0m\u001b[0;34m)\u001b[0m\u001b[0;34m\u001b[0m\u001b[0m\n\u001b[0m\u001b[1;32m    169\u001b[0m \u001b[0;34m\u001b[0m\u001b[0m\n\u001b[1;32m    170\u001b[0m \u001b[0;34m\u001b[0m\u001b[0m\n",
      "\u001b[0;32m/Users/Tristan/anaconda2/lib/python2.7/subprocess.pyc\u001b[0m in \u001b[0;36m__init__\u001b[0;34m(self, args, bufsize, executable, stdin, stdout, stderr, preexec_fn, close_fds, shell, cwd, env, universal_newlines, startupinfo, creationflags)\u001b[0m\n\u001b[1;32m    388\u001b[0m                                 \u001b[0mp2cread\u001b[0m\u001b[0;34m,\u001b[0m \u001b[0mp2cwrite\u001b[0m\u001b[0;34m,\u001b[0m\u001b[0;34m\u001b[0m\u001b[0m\n\u001b[1;32m    389\u001b[0m                                 \u001b[0mc2pread\u001b[0m\u001b[0;34m,\u001b[0m \u001b[0mc2pwrite\u001b[0m\u001b[0;34m,\u001b[0m\u001b[0;34m\u001b[0m\u001b[0m\n\u001b[0;32m--> 390\u001b[0;31m                                 errread, errwrite)\n\u001b[0m\u001b[1;32m    391\u001b[0m         \u001b[0;32mexcept\u001b[0m \u001b[0mException\u001b[0m\u001b[0;34m:\u001b[0m\u001b[0;34m\u001b[0m\u001b[0m\n\u001b[1;32m    392\u001b[0m             \u001b[0;31m# Preserve original exception in case os.close raises.\u001b[0m\u001b[0;34m\u001b[0m\u001b[0;34m\u001b[0m\u001b[0m\n",
      "\u001b[0;32m/Users/Tristan/anaconda2/lib/python2.7/subprocess.pyc\u001b[0m in \u001b[0;36m_execute_child\u001b[0;34m(self, args, executable, preexec_fn, close_fds, cwd, env, universal_newlines, startupinfo, creationflags, shell, to_close, p2cread, p2cwrite, c2pread, c2pwrite, errread, errwrite)\u001b[0m\n\u001b[1;32m   1023\u001b[0m                         \u001b[0;32mraise\u001b[0m\u001b[0;34m\u001b[0m\u001b[0m\n\u001b[1;32m   1024\u001b[0m                 \u001b[0mchild_exception\u001b[0m \u001b[0;34m=\u001b[0m \u001b[0mpickle\u001b[0m\u001b[0;34m.\u001b[0m\u001b[0mloads\u001b[0m\u001b[0;34m(\u001b[0m\u001b[0mdata\u001b[0m\u001b[0;34m)\u001b[0m\u001b[0;34m\u001b[0m\u001b[0m\n\u001b[0;32m-> 1025\u001b[0;31m                 \u001b[0;32mraise\u001b[0m \u001b[0mchild_exception\u001b[0m\u001b[0;34m\u001b[0m\u001b[0m\n\u001b[0m\u001b[1;32m   1026\u001b[0m \u001b[0;34m\u001b[0m\u001b[0m\n\u001b[1;32m   1027\u001b[0m \u001b[0;34m\u001b[0m\u001b[0m\n",
      "\u001b[0;31mOSError\u001b[0m: [Errno 13] Permission denied"
     ]
    }
   ],
   "source": [
    "room = Room(origin=(0, 0, 0), width=4.2, depth=6, height=3.2, rotation_angle=12)\n",
    "room.add_fenestration_surface('back', 1, 1.5, 1.2, radiance_material=Glass.by_single_trans_value('tvis_0.45', 0.45))\n",
    "room.add_fenestration_surface('right', 4, 1.5, 1.2, radiance_material=Glass.by_single_trans_value('tvis_0.6', 0.6))\n",
    "\n",
    "test_points = room.generate_test_points(grid_size=0.25, height=0.75)\n",
    "test_grid = AnalysisGrid.from_points_and_vectors(test_points, name=\"test_room\")\n",
    "\n",
    "# Get all the room surface vertex locations\n",
    "xs, ys, zs = list(zip(*[element for tupl in [point.points[0] for point in room.surfaces] for element in tupl]))\n",
    "\n",
    "# create the daylight factor recipe (without geometry)\n",
    "df_recipe = df_GridBased(analysis_grids=(test_grid,), hb_objects=(room,))\n",
    "\n",
    "# generate a sky matrix from a weatherfile\n",
    "weatherfile = \"GBR_Cardiff_CIBSE_TRY.epw\"\n",
    "sky_matrix = SkyMatrix.from_epw_file(weatherfile, sky_density=2, north=0, hoys=range(0, 8760), mode=0, suffix=\"\")\n",
    "\n",
    "# create the annual daylight recipe (without geometry)\n",
    "annual_recipe = annual_GridBased(sky_matrix, analysis_grids=(test_grid,), hb_objects=(room,)) # <<<<<< add modified raytrace parametrs\n",
    "\n",
    "# append contextual geometry to the created daylight factor recipe\n",
    "df_recipe.hb_objects = room.surfaces\n",
    "\n",
    "# append contextual geometry to the created annual recipe\n",
    "annual_recipe.hb_objects = room.surfaces\n",
    "\n",
    "# Generate bat file for daylight factor\n",
    "df_bat = df_recipe.write(\"room\", \"daylightfactor\")\n",
    "\n",
    "# Generate bat file for daylight factor\n",
    "annual_bat = annual_recipe.write(\"room\", \"annual\")\n",
    "\n",
    "# run the daylight factor analysis\n",
    "df_recipe.run(df_bat, True)\n",
    "\n",
    "# run the annual daylight analysis\n",
    "# annual_recipe.run(annual_bat, True)\n",
    "\n",
    "# GET THE ANNUAL DAYLIGHT METRICS HERE!!!\n",
    "\n",
    "# need to figure out how to get the results coupled to the daylight factor run - this method is a kludge for the time being\n",
    "df_results = [r.to_json() for r in df_recipe.results()]\n",
    "? generate plot\n",
    "fig = plt.figure(figsize=(15, 7.5))\n",
    "ax = Axes3D(fig)\n",
    "# set ax lims\n",
    "ax.set_xlim([np.min(xs), np.max(xs)])\n",
    "ax.set_ylim([np.min(ys), np.max(ys)])\n",
    "ax.set_zlim([np.min(zs), np.max(zs)])\n",
    "ax.set_xlabel(\"X-axis\")\n",
    "ax.set_ylabel(\"Y-axis\")\n",
    "ax.set_zlabel(\"Z-axis\")\n",
    "# plot surfaces\n",
    "for surface in room.surfaces:\n",
    "    ax.add_collection3d(Poly3DCollection(surface.points, facecolor=(0.5, 0.5, 0.5, 0.1), edgecolor=\"k\", linewidth=1, zorder=-1))\n",
    "# plot windows\n",
    "for children in room.children_surfaces:\n",
    "    for child in children.points:\n",
    "        ax.add_collection3d(Poly3DCollection([child], facecolor=(0, 0, 1, 0.05), edgecolor=\"r\", linewidth=1, zorder=-1))\n",
    "# plot the analysis points\n",
    "ax.scatter([i.x for i in test_grid.points], [i.y for i in test_grid.points], [i.z for i in test_grid.points], c=df_results_list, cmap=\"viridis\", s=30, marker=\"o\")"
   ]
  },
  {
   "cell_type": "code",
   "execution_count": 10,
   "metadata": {},
   "outputs": [
    {
     "name": "stdout",
     "output_type": "stream",
     "text": [
      "Unloading the current values from the analysis grids.\n",
      "\n",
      "Adding room\\annual\\gridbased_annual\\room\\annual\\gridbased_annual\\result/scene..default.ill to result files for test_room\n",
      "\n",
      "Loading the results from result files.\n"
     ]
    },
    {
     "ename": "WindowsError",
     "evalue": "[Error 3] The system cannot find the path specified: 'room\\\\annual\\\\gridbased_annual\\\\room\\\\annual\\\\gridbased_annual\\\\result/scene..default.ill'",
     "output_type": "error",
     "traceback": [
      "\u001b[1;31m---------------------------------------------------------------------------\u001b[0m",
      "\u001b[1;31mWindowsError\u001b[0m                              Traceback (most recent call last)",
      "\u001b[1;32m<ipython-input-10-cd08e6d966f3>\u001b[0m in \u001b[0;36m<module>\u001b[1;34m()\u001b[0m\n\u001b[1;32m----> 1\u001b[1;33m \u001b[0mannual_recipe\u001b[0m\u001b[1;33m.\u001b[0m\u001b[0mresults\u001b[0m\u001b[1;33m(\u001b[0m\u001b[1;33m)\u001b[0m\u001b[1;33m[\u001b[0m\u001b[1;36m0\u001b[0m\u001b[1;33m]\u001b[0m\u001b[1;33m.\u001b[0m\u001b[0mannual_metrics\u001b[0m\u001b[1;33m(\u001b[0m\u001b[1;33m)\u001b[0m\u001b[1;33m\u001b[0m\u001b[0m\n\u001b[0m",
      "\u001b[1;32mC:\\Users\\tgerrish\\Desktop\\ladybug-tools-TG\\honeybee\\honeybee\\radiance\\analysisgrid.pyc\u001b[0m in \u001b[0;36mannual_metrics\u001b[1;34m(self, da_threshhold, udi_min_max, blinds_state_ids, occ_schedule)\u001b[0m\n\u001b[0;32m    470\u001b[0m \u001b[1;33m\u001b[0m\u001b[0m\n\u001b[0;32m    471\u001b[0m                 \u001b[1;31m# read the results line by line and caluclate the values\u001b[0m\u001b[1;33m\u001b[0m\u001b[1;33m\u001b[0m\u001b[0m\n\u001b[1;32m--> 472\u001b[1;33m                 \u001b[1;32mif\u001b[0m \u001b[0mos\u001b[0m\u001b[1;33m.\u001b[0m\u001b[0mpath\u001b[0m\u001b[1;33m.\u001b[0m\u001b[0mgetsize\u001b[0m\u001b[1;33m(\u001b[0m\u001b[0mfile_path\u001b[0m\u001b[1;33m)\u001b[0m \u001b[1;33m<\u001b[0m \u001b[1;36m2\u001b[0m\u001b[1;33m:\u001b[0m\u001b[1;33m\u001b[0m\u001b[0m\n\u001b[0m\u001b[0;32m    473\u001b[0m                     \u001b[1;32mraise\u001b[0m \u001b[0mEmptyFileError\u001b[0m\u001b[1;33m(\u001b[0m\u001b[0mfile_path\u001b[0m\u001b[1;33m)\u001b[0m\u001b[1;33m\u001b[0m\u001b[0m\n\u001b[0;32m    474\u001b[0m \u001b[1;33m\u001b[0m\u001b[0m\n",
      "\u001b[1;32mC:\\Users\\tgerrish\\AppData\\Local\\Continuum\\anaconda3\\envs\\py27\\lib\\genericpath.pyc\u001b[0m in \u001b[0;36mgetsize\u001b[1;34m(filename)\u001b[0m\n\u001b[0;32m     55\u001b[0m \u001b[1;32mdef\u001b[0m \u001b[0mgetsize\u001b[0m\u001b[1;33m(\u001b[0m\u001b[0mfilename\u001b[0m\u001b[1;33m)\u001b[0m\u001b[1;33m:\u001b[0m\u001b[1;33m\u001b[0m\u001b[0m\n\u001b[0;32m     56\u001b[0m     \u001b[1;34m\"\"\"Return the size of a file, reported by os.stat().\"\"\"\u001b[0m\u001b[1;33m\u001b[0m\u001b[0m\n\u001b[1;32m---> 57\u001b[1;33m     \u001b[1;32mreturn\u001b[0m \u001b[0mos\u001b[0m\u001b[1;33m.\u001b[0m\u001b[0mstat\u001b[0m\u001b[1;33m(\u001b[0m\u001b[0mfilename\u001b[0m\u001b[1;33m)\u001b[0m\u001b[1;33m.\u001b[0m\u001b[0mst_size\u001b[0m\u001b[1;33m\u001b[0m\u001b[0m\n\u001b[0m\u001b[0;32m     58\u001b[0m \u001b[1;33m\u001b[0m\u001b[0m\n\u001b[0;32m     59\u001b[0m \u001b[1;33m\u001b[0m\u001b[0m\n",
      "\u001b[1;31mWindowsError\u001b[0m: [Error 3] The system cannot find the path specified: 'room\\\\annual\\\\gridbased_annual\\\\room\\\\annual\\\\gridbased_annual\\\\result/scene..default.ill'"
     ]
    }
   ],
   "source": [
    "annual_recipe.results()[0].annual_metrics()"
   ]
  },
  {
   "cell_type": "code",
   "execution_count": null,
   "metadata": {},
   "outputs": [],
   "source": []
  },
  {
   "cell_type": "code",
   "execution_count": null,
   "metadata": {},
   "outputs": [],
   "source": []
  },
  {
   "cell_type": "code",
   "execution_count": null,
   "metadata": {},
   "outputs": [],
   "source": []
  },
  {
   "cell_type": "code",
   "execution_count": null,
   "metadata": {},
   "outputs": [],
   "source": []
  },
  {
   "cell_type": "code",
   "execution_count": null,
   "metadata": {},
   "outputs": [],
   "source": []
  },
  {
   "cell_type": "code",
   "execution_count": null,
   "metadata": {},
   "outputs": [],
   "source": [
    "%matplotlib inline\n",
    "import numpy as np\n",
    "import re\n",
    "import matplotlib.pyplot as plt\n",
    "from mpl_toolkits.mplot3d import Axes3D\n",
    "from mpl_toolkits.mplot3d.art3d import Poly3DCollection\n",
    "import json\n",
    "import os\n",
    "from honeybee.room import Room\n",
    "from honeybee.radiance.material.glass import Glass\n",
    "from honeybee.radiance.sky.certainIlluminance import CertainIlluminanceLevel\n",
    "from honeybee.radiance.parameters.rtrace import RtraceParameters\n",
    "from honeybee.radiance.sky.skymatrix import SkyMatrix\n",
    "from honeybee.radiance.recipe.annual.gridbased import GridBased\n",
    "from honeybee.radiance.analysisgrid import AnalysisGrid\n",
    "from honeybee.futil import bat_to_sh\n",
    "from honeybee.schedule import Schedule\n",
    "\n",
    "# create a test room\n",
    "room = Room(origin=(0, 0, 0), width=4.2, depth=6, height=3.2, rotation_angle=45)\n",
    "\n",
    "# add fenestrations\n",
    "\n",
    "# add a window to the back wall\n",
    "room.add_fenestration_surface(wall_name='back', width=2, height=2, sill_height=0.7)\n",
    "\n",
    "# add a window with custom material to the right wall\n",
    "glass_60 = Glass.by_single_trans_value('tvis_0.6', 0.6)\n",
    "room.add_fenestration_surface('right', 4, 1.5, 1.2, radiance_material=glass_60)\n",
    "\n",
    "# generate grid of test points\n",
    "test_points = room.generate_test_points(grid_size=0.5, height=0.75)\n",
    "test_grid = AnalysisGrid.from_points_and_vectors(test_points, name=\"Test room\")\n",
    "\n",
    "# Get all the vertex locations\n",
    "xs, ys, zs = list(zip(*[element for tupl in [point.points[0] for point in room.surfaces] for element in tupl]))\n",
    "# generate plot\n",
    "fig = plt.figure(figsize=(10, 5))\n",
    "ax = Axes3D(fig)\n",
    "# set ax lims\n",
    "ax.set_xlim([np.min(xs), np.max(xs)])\n",
    "ax.set_ylim([np.min(ys), np.max(ys)])\n",
    "ax.set_zlim([np.min(zs), np.max(zs)])\n",
    "ax.set_xlabel(\"X-axis\")\n",
    "ax.set_ylabel(\"Y-axis\")\n",
    "ax.set_zlabel(\"Z-axis\")\n",
    "# plot surfaces\n",
    "for surface in room.surfaces:\n",
    "    ax.add_collection3d(Poly3DCollection(surface.points, facecolor=(0.5, 0.5, 0.5, 0.1), edgecolor=\"k\", linewidth=1, zorder=-1))\n",
    "# plot windows\n",
    "for children in room.children_surfaces:\n",
    "    for child in children.points:\n",
    "        ax.add_collection3d(Poly3DCollection([child], facecolor=(0, 0, 1, 0.05), edgecolor=\"r\", linewidth=1, zorder=-1))\n",
    "# plot the analysis points\n",
    "ax.scatter([i.x for i in test_grid.points], [i.y for i in test_grid.points], [i.z for i in test_grid.points], c=\"k\", s=10, marker=\"o\")\n",
    "\n",
    "# generate a sky matrix from a weatherfile\n",
    "weatherfile = \"weather/GBR_London.Gatwick_IWEC.epw\"\n",
    "sky = SkyMatrix.from_epw_file(weatherfile, sky_density=2, north=0, hoys=range(0, 8760), mode=0, suffix=\"\")\n",
    "\n",
    "# put the recipe together\n",
    "recipe = GridBased(sky_mtx=sky, analysis_grids=(test_grid,), simulation_type=0, hb_objects=(room,))\n",
    "recipe_json = recipe.to_json()\n",
    "# save as a json file\n",
    "with open(\"room/recipe.json\", \"w\") as f:\n",
    "    json.dump(recipe_json, f)\n",
    "\n"
   ]
  }
 ],
 "metadata": {
  "kernelspec": {
   "display_name": "Python 2",
   "language": "python",
   "name": "python2"
  },
  "language_info": {
   "codemirror_mode": {
    "name": "ipython",
    "version": 2
   },
   "file_extension": ".py",
   "mimetype": "text/x-python",
   "name": "python",
   "nbconvert_exporter": "python",
   "pygments_lexer": "ipython2",
   "version": "2.7.14"
  }
 },
 "nbformat": 4,
 "nbformat_minor": 2
}
