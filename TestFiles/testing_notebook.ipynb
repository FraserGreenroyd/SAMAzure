{
 "cells": [
  {
   "cell_type": "code",
   "execution_count": 2,
   "metadata": {},
   "outputs": [],
   "source": [
    "from ladybug import epw\n",
    "+try:\n",
    "+    # Python 2\n",
    "+    from itertools import izip\n",
    "+except ImportError:\n",
    "+    # Python 3\n",
    "+    izip = zip"
   ]
  },
  {
   "cell_type": "code",
   "execution_count": 3,
   "metadata": {},
   "outputs": [
    {
     "ename": "ModuleNotFoundError",
     "evalue": "No module named 'honeybee.hbsurface'",
     "output_type": "error",
     "traceback": [
      "\u001b[1;31m---------------------------------------------------------------------------\u001b[0m",
      "\u001b[1;31mModuleNotFoundError\u001b[0m                       Traceback (most recent call last)",
      "\u001b[1;32m<ipython-input-3-f6ad73cb7853>\u001b[0m in \u001b[0;36m<module>\u001b[1;34m()\u001b[0m\n\u001b[0;32m      4\u001b[0m \u001b[0msys\u001b[0m\u001b[1;33m.\u001b[0m\u001b[0mpath\u001b[0m\u001b[1;33m.\u001b[0m\u001b[0minsert\u001b[0m\u001b[1;33m(\u001b[0m\u001b[1;36m0\u001b[0m\u001b[1;33m,\u001b[0m \u001b[1;34m'./honeybee'\u001b[0m\u001b[1;33m)\u001b[0m\u001b[1;33m\u001b[0m\u001b[0m\n\u001b[0;32m      5\u001b[0m \u001b[1;33m\u001b[0m\u001b[0m\n\u001b[1;32m----> 6\u001b[1;33m \u001b[1;32mfrom\u001b[0m \u001b[0mhoneybee\u001b[0m\u001b[1;33m.\u001b[0m\u001b[0mhbsurface\u001b[0m \u001b[1;32mimport\u001b[0m \u001b[0mHBSurface\u001b[0m\u001b[1;33m\u001b[0m\u001b[0m\n\u001b[0m\u001b[0;32m      7\u001b[0m \u001b[1;32mfrom\u001b[0m \u001b[0mhoneybee\u001b[0m\u001b[1;33m.\u001b[0m\u001b[0mradiance\u001b[0m\u001b[1;33m.\u001b[0m\u001b[0manalysisgrid\u001b[0m \u001b[1;32mimport\u001b[0m \u001b[0mAnalysisGrid\u001b[0m\u001b[1;33m\u001b[0m\u001b[0m\n\u001b[0;32m      8\u001b[0m \u001b[1;32mfrom\u001b[0m \u001b[0mhoneybee\u001b[0m\u001b[1;33m.\u001b[0m\u001b[0mradiance\u001b[0m\u001b[1;33m.\u001b[0m\u001b[0mmaterial\u001b[0m\u001b[1;33m.\u001b[0m\u001b[0mglass\u001b[0m \u001b[1;32mimport\u001b[0m \u001b[0mGlass\u001b[0m\u001b[1;33m\u001b[0m\u001b[0m\n",
      "\u001b[1;31mModuleNotFoundError\u001b[0m: No module named 'honeybee.hbsurface'"
     ]
    }
   ],
   "source": [
    "import sys\n",
    "\n",
    "sys.path.insert(0, './ladybug')\n",
    "sys.path.insert(0, './honeybee')\n",
    "\n",
    "from honeybee.hbsurface import HBSurface\n",
    "from honeybee.radiance.analysisgrid import AnalysisGrid\n",
    "from honeybee.radiance.material.glass import Glass\n",
    "from honeybee.radiance.material.plastic import Plastic\n",
    "from honeybee.radiance.properties import RadianceProperties\n",
    "from honeybee.radiance.sky.skymatrix import SkyMatrix"
   ]
  },
  {
   "cell_type": "code",
   "execution_count": 5,
   "metadata": {},
   "outputs": [
    {
     "ename": "ModuleNotFoundError",
     "evalue": "No module named 'config'",
     "output_type": "error",
     "traceback": [
      "\u001b[1;31m---------------------------------------------------------------------------\u001b[0m",
      "\u001b[1;31mModuleNotFoundError\u001b[0m                       Traceback (most recent call last)",
      "\u001b[1;32m<ipython-input-5-75286f0caaeb>\u001b[0m in \u001b[0;36m<module>\u001b[1;34m()\u001b[0m\n\u001b[1;32m----> 1\u001b[1;33m \u001b[1;32mimport\u001b[0m \u001b[0mconfig\u001b[0m\u001b[1;33m\u001b[0m\u001b[0m\n\u001b[0m",
      "\u001b[1;31mModuleNotFoundError\u001b[0m: No module named 'config'"
     ]
    }
   ],
   "source": [
    "from honeybee import "
   ]
  }
 ],
 "metadata": {
  "kernelspec": {
   "display_name": "Python 3",
   "language": "python",
   "name": "python3"
  },
  "language_info": {
   "codemirror_mode": {
    "name": "ipython",
    "version": 3
   },
   "file_extension": ".py",
   "mimetype": "text/x-python",
   "name": "python",
   "nbconvert_exporter": "python",
   "pygments_lexer": "ipython3",
   "version": "3.7.0"
  }
 },
 "nbformat": 4,
 "nbformat_minor": 2
}
