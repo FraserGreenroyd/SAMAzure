{
 "cells": [
  {
   "cell_type": "code",
   "execution_count": 4,
   "metadata": {},
   "outputs": [],
   "source": [
    "import prettyprint"
   ]
  },
  {
   "cell_type": "code",
   "execution_count": 7,
   "metadata": {},
   "outputs": [],
   "source": [
    "a = [[\"x-range\", 0.5, 9.5], [\"y-range\", 0.5, 9.5], [\"z-range\", 0.765, 0.765], [\"df-range\", 0.7759069319999999, 20.547774099999998], [\"da-range\", 0.0, 88.36363636363636], [\"cda-range\", -710.611111111111, 89.97676767676766], [\"udi_less-range\", 9.757575757575758, 100.0], [\"udi-range\", 0.0, 89.0909090909091], [\"udi_more-range\", 0.0, 68.3030303030303]]"
   ]
  },
  {
   "cell_type": "code",
   "execution_count": 8,
   "metadata": {},
   "outputs": [
    {
     "data": {
      "text/plain": [
       "[['x-range', 0.5, 9.5],\n",
       " ['y-range', 0.5, 9.5],\n",
       " ['z-range', 0.765, 0.765],\n",
       " ['df-range', 0.7759069319999999, 20.547774099999998],\n",
       " ['da-range', 0.0, 88.36363636363636],\n",
       " ['cda-range', -710.611111111111, 89.97676767676766],\n",
       " ['udi_less-range', 9.757575757575758, 100.0],\n",
       " ['udi-range', 0.0, 89.0909090909091],\n",
       " ['udi_more-range', 0.0, 68.3030303030303]]"
      ]
     },
     "execution_count": 8,
     "metadata": {},
     "output_type": "execute_result"
    }
   ],
   "source": [
    "a"
   ]
  },
  {
   "cell_type": "code",
   "execution_count": 3,
   "metadata": {},
   "outputs": [],
   "source": [
    "import sys\n",
    "\n",
    "sys.path.insert(0, './ladybug')\n",
    "sys.path.insert(0, './honeybee')\n",
    "\n",
    "from honeybee import *"
   ]
  },
  {
   "cell_type": "code",
   "execution_count": 5,
   "metadata": {},
   "outputs": [
    {
     "ename": "ModuleNotFoundError",
     "evalue": "No module named 'config'",
     "output_type": "error",
     "traceback": [
      "\u001b[1;31m---------------------------------------------------------------------------\u001b[0m",
      "\u001b[1;31mModuleNotFoundError\u001b[0m                       Traceback (most recent call last)",
      "\u001b[1;32m<ipython-input-5-75286f0caaeb>\u001b[0m in \u001b[0;36m<module>\u001b[1;34m()\u001b[0m\n\u001b[1;32m----> 1\u001b[1;33m \u001b[1;32mimport\u001b[0m \u001b[0mconfig\u001b[0m\u001b[1;33m\u001b[0m\u001b[0m\n\u001b[0m",
      "\u001b[1;31mModuleNotFoundError\u001b[0m: No module named 'config'"
     ]
    }
   ],
   "source": [
    "honeyb"
   ]
  }
 ],
 "metadata": {
  "kernelspec": {
   "display_name": "Python 3",
   "language": "python",
   "name": "python3"
  },
  "language_info": {
   "codemirror_mode": {
    "name": "ipython",
    "version": 3
   },
   "file_extension": ".py",
   "mimetype": "text/x-python",
   "name": "python",
   "nbconvert_exporter": "python",
   "pygments_lexer": "ipython3",
   "version": "3.7.0"
  }
 },
 "nbformat": 4,
 "nbformat_minor": 2
}
